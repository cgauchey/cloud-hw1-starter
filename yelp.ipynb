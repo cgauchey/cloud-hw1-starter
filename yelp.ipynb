{
  "cells": [
    {
      "cell_type": "code",
      "execution_count": null,
      "metadata": {
        "id": "-hAZW2ngFyox"
      },
      "outputs": [],
      "source": [
        "import requests\n",
        "import json\n",
        "\n",
        "api_key = \"eBUlsPb5gbBKzGmRb6j9jgsWU7pePqvmdK19ngIchBV9VsNhyM6h5rUHSCCQgpOQ4hxXcK1ZU3zlYJlk7j2e18F3tsVYqUmJbimoacx5jDSXOpx-4tvszGavVFgoZXYx\"\n",
        "\n",
        "cuisine_types = [\"chinese\", \"italian\", \"mexican\", \"indian\", \"japanese\", \"french\", \"korean\"]\n",
        "unique_restaurant_ids = set()\n",
        "restaurant_data = []\n",
        "for cuisine in cuisine_types:\n",
        "    # Define the search term with the cuisine type\n",
        "    search_term = f\"{cuisine} restaurants\"\n",
        "\n",
        "    # Initialize variables for pagination\n",
        "    offset = 0\n",
        "    limit = 50\n",
        "\n",
        "    # Continue making requests until you reach your desired number of results\n",
        "    desired_total_results = 1000\n",
        "\n",
        "    while offset < desired_total_results:\n",
        "        # Make a request to the Yelp API\n",
        "        url = \"https://api.yelp.com/v3/businesses/search\"\n",
        "        headers = {\n",
        "            \"Authorization\": f\"Bearer {api_key}\"\n",
        "        }\n",
        "        params = {\n",
        "            \"location\": \"Manhattan\",\n",
        "            \"term\": search_term,\n",
        "            \"limit\": limit,\n",
        "            \"offset\": offset\n",
        "        }\n",
        "\n",
        "        response = requests.get(url, headers=headers, params=params)\n",
        "        data = response.json()\n",
        "\n",
        "        restaurants = data[\"businesses\"]\n",
        "        for restaurant in restaurants:\n",
        "          restaurant_id = restaurant[\"id\"]\n",
        "          restaurant['cuisine'] = cuisine\n",
        "\n",
        "          # Check if the restaurant ID is already in the set\n",
        "          if restaurant_id not in unique_restaurant_ids:\n",
        "              # Add the restaurant ID to the set to mark it as seen\n",
        "              unique_restaurant_ids.add(restaurant_id)\n",
        "              restaurant_data.append(restaurant)\n",
        "\n",
        "        # Increment the offset for the next page of results\n",
        "        offset += limit\n"
      ]
    },
    {
      "cell_type": "code",
      "execution_count": null,
      "metadata": {
        "colab": {
          "base_uri": "https://localhost:8080/"
        },
        "id": "2AXq9ldkxT3h",
        "outputId": "13a73f56-19d0-4f6b-f52c-cfad10773ffa"
      },
      "outputs": [
        {
          "name": "stdout",
          "output_type": "stream",
          "text": [
            "Results stored in restaurant_data_cuisines.csv\n"
          ]
        }
      ],
      "source": [
        "import csv\n",
        "from datetime import datetime\n",
        "\n",
        "# Define the CSV file path\n",
        "csv_file_path = \"restaurant_data_cuisines.csv\"\n",
        "\n",
        "# Write the collected data to a CSV file\n",
        "with open(csv_file_path, mode='w', newline='') as csv_file:\n",
        "    fieldnames = ['Business ID', 'Name', 'Address', 'Coordinates', 'Number of Reviews', 'Rating', 'Zip Code', 'insertedAtTimestamp', 'Cuisine']\n",
        "    writer = csv.DictWriter(csv_file, fieldnames=fieldnames)\n",
        "\n",
        "    # Write the header row\n",
        "    writer.writeheader()\n",
        "\n",
        "    # Write each restaurant's data as a row in the CSV file\n",
        "    for restaurant in restaurant_data:\n",
        "\n",
        "        writer.writerow({\n",
        "            'Business ID': restaurant.get('id', ''),\n",
        "            'Name': restaurant.get('name', ''),\n",
        "            'Address': restaurant.get('location', {}).get('address1', ''),\n",
        "            'Coordinates': f\"{restaurant.get('coordinates', {}).get('latitude', '')}, {restaurant.get('coordinates', {}).get('longitude', '')}\",\n",
        "            'Number of Reviews': restaurant.get('review_count', ''),\n",
        "            'Rating': restaurant.get('rating', ''),\n",
        "            'Zip Code': restaurant.get('location', {}).get('zip_code', ''),\n",
        "            'insertedAtTimestamp': datetime.now().strftime(\"%Y-%m-%d %H:%M:%S\"),\n",
        "            'Cuisine': restaurant.get('cuisine', '')\n",
        "        })\n",
        "\n",
        "print(f'Results stored in {csv_file_path}')"
      ]
    }
  ],
  "metadata": {
    "colab": {
      "provenance": []
    },
    "kernelspec": {
      "display_name": "Python 3",
      "name": "python3"
    },
    "language_info": {
      "name": "python"
    }
  },
  "nbformat": 4,
  "nbformat_minor": 0
}
